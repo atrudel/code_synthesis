{
 "cells": [
  {
   "cell_type": "code",
   "execution_count": 1,
   "metadata": {},
   "outputs": [],
   "source": [
    "import numpy as np\n",
    "import random\n",
    "import pickle\n",
    "from numba import jit\n",
    "import time"
   ]
  },
  {
   "cell_type": "code",
   "execution_count": 2,
   "metadata": {},
   "outputs": [],
   "source": [
    "from game.game_of_life import gol, rle"
   ]
  },
  {
   "cell_type": "code",
   "execution_count": 3,
   "metadata": {},
   "outputs": [],
   "source": [
    "game_size = 512\n",
    "player_size = 64\n",
    "experiment_name = \"Random King of Hill\" \n",
    "author = \"Emil Wallner Githhub: ewallner\" \n",
    "comments = \"This experiment allows us to compare how smart an algorithm is compared to brute force\""
   ]
  },
  {
   "cell_type": "code",
   "execution_count": 4,
   "metadata": {},
   "outputs": [],
   "source": [
    "#@jit\n",
    "def get_players(player_size):\n",
    "    dist_1 = random.random()\n",
    "    dist_2 = random.random()\n",
    "    \n",
    "    player_1_value = [1, 0]\n",
    "    player_2_value = [2, 0]\n",
    "    \n",
    "    player_1_program = np.random.choice(player_1_value, (player_size, player_size), p=[dist_1, (1.0 - dist_1)])\n",
    "    player_2_program = np.random.choice(player_2_value, (player_size, player_size), p=[dist_2, (1.0 - dist_2)])\n",
    "    \n",
    "    return player_1_program, player_2_program"
   ]
  },
  {
   "cell_type": "code",
   "execution_count": 5,
   "metadata": {},
   "outputs": [],
   "source": [
    "#@jit\n",
    "def add_player_to_board(board, board_size, player_size, program, x, y):\n",
    "    for b_x in range(player_size):\n",
    "        for b_y in range(player_size):\n",
    "            board[b_x + x][b_y + y] = program[b_x][b_y]\n",
    "    return board"
   ]
  },
  {
   "cell_type": "code",
   "execution_count": 6,
   "metadata": {},
   "outputs": [],
   "source": [
    "#@jit\n",
    "def initiate_board(board_size, player_size):\n",
    "    game_board = np.zeros((board_size, board_size), dtype=np.int8)\n",
    "    \n",
    "    p1_program, p2_program = get_players(player_size)\n",
    "    \n",
    "    grid_size_x = (game_size - (player_size * 2)) / 3\n",
    "    grid_size_y = (game_size - player_size) / 2\n",
    "    \n",
    "    x_1 = int(grid_size_x)\n",
    "    y_1 = int(grid_size_y)\n",
    "    x_2 = int(x_1 + grid_size_x)\n",
    "    y_2 = int(grid_size_y)\n",
    "    \n",
    "    game_board = add_player_to_board(game_board, board_size, player_size, p1_program, x_1, y_1)\n",
    "    game_board = add_player_to_board(game_board, board_size, player_size, p2_program, x_2, y_2)\n",
    "    \n",
    "    return game_board, p1_program, p2_program"
   ]
  },
  {
   "cell_type": "code",
   "execution_count": 7,
   "metadata": {},
   "outputs": [],
   "source": [
    "game_board, p1_program, p2_program = initiate_board(game_size, player_size)"
   ]
  },
  {
   "cell_type": "code",
   "execution_count": 8,
   "metadata": {},
   "outputs": [
    {
     "name": "stdout",
     "output_type": "stream",
     "text": [
      "--- 0.23786187171936035 seconds ---\n",
      "--- 0.24723005294799805 seconds ---\n",
      "--- 0.23813891410827637 seconds ---\n",
      "--- 0.23526310920715332 seconds ---\n",
      "--- 0.2397308349609375 seconds ---\n",
      "--- 0.23963594436645508 seconds ---\n",
      "--- 0.23666095733642578 seconds ---\n",
      "--- 0.2322838306427002 seconds ---\n",
      "--- 0.23583507537841797 seconds ---\n",
      "--- 0.24450302124023438 seconds ---\n"
     ]
    }
   ],
   "source": [
    "for i in range(10):\n",
    "    start_time = time.time()\n",
    "    game_board, p1_program, p2_program = initiate_board(game_size, player_size)\n",
    "    game = gol.GameOfLife(512, 512)\n",
    "    game.set_grid(bytearray(game_board.tobytes()))\n",
    "    game.run_steps(100)\n",
    "    print(\"--- %s seconds ---\" % (time.time() - start_time))"
   ]
  },
  {
   "cell_type": "code",
   "execution_count": 9,
   "metadata": {},
   "outputs": [],
   "source": [
    "game_ints = [x for x in game.grid()]"
   ]
  },
  {
   "cell_type": "code",
   "execution_count": 10,
   "metadata": {},
   "outputs": [
    {
     "name": "stdout",
     "output_type": "stream",
     "text": [
      "1\n"
     ]
    }
   ],
   "source": [
    "@jit\n",
    "def decide_winner(game_result):\n",
    "    ones = 0\n",
    "    twos = 0\n",
    "    winner = 1\n",
    "    \n",
    "    for i in game_result:\n",
    "        if i == 1:\n",
    "            ones += 1\n",
    "        elif i == 2:\n",
    "            twos += 1\n",
    "            \n",
    "    if twos > ones:\n",
    "        winner = 2\n",
    "    return winner\n",
    "\n",
    "print(decide_winner(game_ints))"
   ]
  },
  {
   "cell_type": "code",
   "execution_count": null,
   "metadata": {},
   "outputs": [],
   "source": []
  }
 ],
 "metadata": {
  "kernelspec": {
   "display_name": "Python 3",
   "language": "python",
   "name": "python3"
  },
  "language_info": {
   "codemirror_mode": {
    "name": "ipython",
    "version": 3
   },
   "file_extension": ".py",
   "mimetype": "text/x-python",
   "name": "python",
   "nbconvert_exporter": "python",
   "pygments_lexer": "ipython3",
   "version": "3.6.5"
  }
 },
 "nbformat": 4,
 "nbformat_minor": 2
}
