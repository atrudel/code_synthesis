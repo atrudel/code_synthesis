{
 "cells": [
  {
   "cell_type": "code",
   "execution_count": 1,
   "metadata": {},
   "outputs": [],
   "source": [
    "import numpy as np\n",
    "import random\n",
    "import pickle"
   ]
  },
  {
   "cell_type": "code",
   "execution_count": 2,
   "metadata": {},
   "outputs": [],
   "source": [
    "from game.game_of_life import gol, rle"
   ]
  },
  {
   "cell_type": "code",
   "execution_count": 9,
   "metadata": {},
   "outputs": [],
   "source": [
    "game_size = 512\n",
    "player_size = 64\n",
    "experiment_name = \"Random King of Hill\" \n",
    "author = \"Emil Wallner Githhub: ewallner\" \n",
    "comments = \"This experiment allows us to compare how smart an algorithm is compared to brute force\""
   ]
  },
  {
   "cell_type": "code",
   "execution_count": 10,
   "metadata": {},
   "outputs": [],
   "source": [
    "player_1_value = [1, 0]\n",
    "player_2_value = [2, 0]\n",
    "def get_players(player_size):\n",
    "    dist_1 = random.random()\n",
    "    dist_2 = random.random()\n",
    "    \n",
    "    player_1_program = np.random.choice(player_1_value, (player_size, player_size), p=[dist_1, (1.0 - dist_1)])\n",
    "    player_2_program = np.random.choice(player_2_value, (player_size, player_size), p=[dist_2, (1.0 - dist_2)])\n",
    "    \n",
    "    return player_1_program, player_2_program"
   ]
  },
  {
   "cell_type": "code",
   "execution_count": 87,
   "metadata": {},
   "outputs": [],
   "source": [
    "test = np.array([0, 0, 0])"
   ]
  },
  {
   "cell_type": "code",
   "execution_count": 88,
   "metadata": {},
   "outputs": [
    {
     "data": {
      "text/plain": [
       "numpy.ndarray"
      ]
     },
     "execution_count": 88,
     "metadata": {},
     "output_type": "execute_result"
    }
   ],
   "source": [
    "type(test)"
   ]
  },
  {
   "cell_type": "code",
   "execution_count": 89,
   "metadata": {},
   "outputs": [
    {
     "ename": "ValueError",
     "evalue": "Game already contains two players. Can't add any more.",
     "output_type": "error",
     "traceback": [
      "\u001b[0;31m---------------------------------------------------------------------------\u001b[0m",
      "\u001b[0;31mValueError\u001b[0m                                Traceback (most recent call last)",
      "\u001b[0;32m<ipython-input-89-bd019dc33fec>\u001b[0m in \u001b[0;36m<module>\u001b[0;34m()\u001b[0m\n\u001b[1;32m      1\u001b[0m \u001b[0;32mif\u001b[0m \u001b[0mtype\u001b[0m\u001b[0;34m(\u001b[0m\u001b[0mtest\u001b[0m\u001b[0;34m)\u001b[0m \u001b[0;34m!=\u001b[0m \u001b[0;34m\"numpy.ndarray\"\u001b[0m\u001b[0;34m:\u001b[0m\u001b[0;34m\u001b[0m\u001b[0m\n\u001b[0;32m----> 2\u001b[0;31m     \u001b[0;32mraise\u001b[0m \u001b[0mValueError\u001b[0m\u001b[0;34m(\u001b[0m\u001b[0;34m\"Game already contains two players. Can't add any more.\"\u001b[0m\u001b[0;34m)\u001b[0m\u001b[0;34m\u001b[0m\u001b[0m\n\u001b[0m",
      "\u001b[0;31mValueError\u001b[0m: Game already contains two players. Can't add any more."
     ]
    }
   ],
   "source": [
    "if type(test) != \"numpy.ndarray\":\n",
    "    raise ValueError(\"Game already contains two players. Can't add any more.\")"
   ]
  },
  {
   "cell_type": "code",
   "execution_count": 11,
   "metadata": {},
   "outputs": [],
   "source": [
    "def add_player_to_board(board, board_size, player_size, program, x, y):\n",
    "    for b_x in range(player_size):\n",
    "        for b_y in range(player_size):\n",
    "            board[b_x + x][b_y + y] = program[b_x][b_y]\n",
    "    return board"
   ]
  },
  {
   "cell_type": "code",
   "execution_count": 78,
   "metadata": {},
   "outputs": [],
   "source": [
    "def turn_program_into_file(program=[0,0], player_size=2, filename=\"program.rle\", name=\"\", author=\"\", comments=\"\"):\n",
    "    file = \"#N \" + experiment_name + \"\\n\"\n",
    "    file += \"#C \" + comments + \"\\n\"\n",
    "    file += \"#O \" + author + \"\\n\"\n",
    "    file += \"x = \" + str(player_size) + \", y= \" + str(player_size) + \"\\n\"\n",
    "    \n",
    "    dead = 0\n",
    "    alive = 0\n",
    "    linebreak = 0\n",
    "    end = 0\n",
    "    for i in range(player_size):\n",
    "        counter = 1\n",
    "        for k in range(player_size - 1):\n",
    "            if program[i][k] == 0:\n",
    "                data = \"b\"\n",
    "            else:\n",
    "                data = \"o\"\n",
    "            \n",
    "            if program[i][k + 1] == 0:\n",
    "                data_2 = \"b\"\n",
    "            else:\n",
    "                data_2 = \"o\"\n",
    "            \n",
    "            if data != data_2 or k == (player_size - 2):\n",
    "                if data == data_2:\n",
    "                    counter += 1\n",
    "                \n",
    "                if counter > 1:\n",
    "                    file += (str(counter))\n",
    "                    linebreak += len(str(counter)) - 1\n",
    "                \n",
    "                file += data\n",
    "                if k == (player_size - 2) and data != data_2:\n",
    "                    file += data_2\n",
    "                \n",
    "                linebreak += 1\n",
    "                if linebreak > 70:\n",
    "                    file += \"\\n\"\n",
    "                    linebreak = 0\n",
    "                \n",
    "                counter = 0\n",
    "                \n",
    "            counter += 1\n",
    "        file += \"$\"\n",
    "        linebreak += 1\n",
    "    file += \"!\"\n",
    "    print(file)\n",
    "    f = open(filename, 'w') \n",
    "    f.write(str(file))\n",
    "    f.close() "
   ]
  },
  {
   "cell_type": "code",
   "execution_count": 79,
   "metadata": {},
   "outputs": [
    {
     "ename": "TypeError",
     "evalue": "'int' object is not subscriptable",
     "output_type": "error",
     "traceback": [
      "\u001b[0;31m---------------------------------------------------------------------------\u001b[0m",
      "\u001b[0;31mTypeError\u001b[0m                                 Traceback (most recent call last)",
      "\u001b[0;32m<ipython-input-79-7a8cb833e60e>\u001b[0m in \u001b[0;36m<module>\u001b[0;34m()\u001b[0m\n\u001b[0;32m----> 1\u001b[0;31m \u001b[0mturn_program_into_file\u001b[0m\u001b[0;34m(\u001b[0m\u001b[0;34m)\u001b[0m\u001b[0;34m\u001b[0m\u001b[0m\n\u001b[0m",
      "\u001b[0;32m<ipython-input-78-f6639e80b104>\u001b[0m in \u001b[0;36mturn_program_into_file\u001b[0;34m(program, player_size, filename, name, author, comments)\u001b[0m\n\u001b[1;32m     12\u001b[0m         \u001b[0mcounter\u001b[0m \u001b[0;34m=\u001b[0m \u001b[0;36m1\u001b[0m\u001b[0;34m\u001b[0m\u001b[0m\n\u001b[1;32m     13\u001b[0m         \u001b[0;32mfor\u001b[0m \u001b[0mk\u001b[0m \u001b[0;32min\u001b[0m \u001b[0mrange\u001b[0m\u001b[0;34m(\u001b[0m\u001b[0mplayer_size\u001b[0m \u001b[0;34m-\u001b[0m \u001b[0;36m1\u001b[0m\u001b[0;34m)\u001b[0m\u001b[0;34m:\u001b[0m\u001b[0;34m\u001b[0m\u001b[0m\n\u001b[0;32m---> 14\u001b[0;31m             \u001b[0;32mif\u001b[0m \u001b[0mprogram\u001b[0m\u001b[0;34m[\u001b[0m\u001b[0mi\u001b[0m\u001b[0;34m]\u001b[0m\u001b[0;34m[\u001b[0m\u001b[0mk\u001b[0m\u001b[0;34m]\u001b[0m \u001b[0;34m==\u001b[0m \u001b[0;36m0\u001b[0m\u001b[0;34m:\u001b[0m\u001b[0;34m\u001b[0m\u001b[0m\n\u001b[0m\u001b[1;32m     15\u001b[0m                 \u001b[0mdata\u001b[0m \u001b[0;34m=\u001b[0m \u001b[0;34m\"b\"\u001b[0m\u001b[0;34m\u001b[0m\u001b[0m\n\u001b[1;32m     16\u001b[0m             \u001b[0;32melse\u001b[0m\u001b[0;34m:\u001b[0m\u001b[0;34m\u001b[0m\u001b[0m\n",
      "\u001b[0;31mTypeError\u001b[0m: 'int' object is not subscriptable"
     ]
    }
   ],
   "source": [
    "turn_program_into_file()"
   ]
  },
  {
   "cell_type": "code",
   "execution_count": 75,
   "metadata": {},
   "outputs": [],
   "source": [
    "def initiate_board(board_size, player_size):\n",
    "    game_board = np.zeros((board_size, board_size), dtype=np.int8)\n",
    "    \n",
    "    p1_program, p2_program = get_players(player_size)\n",
    "    \n",
    "    grid_size_x = (game_size - (player_size * 2)) / 3\n",
    "    grid_size_y = (game_size - player_size) / 2\n",
    "    \n",
    "    x_1 = int(grid_size_x)\n",
    "    y_1 = int(grid_size_y)\n",
    "    x_2 = int(x_1 + grid_size_x)\n",
    "    y_2 = int(grid_size_y)\n",
    "    \n",
    "    game_board = add_player_to_board(game_board, board_size, player_size, p1_program, x_1, y_1)\n",
    "    game_board = add_player_to_board(game_board, board_size, player_size, p2_program, x_2, y_2)\n",
    "    \n",
    "    return game_board, p1_program, p2_program"
   ]
  },
  {
   "cell_type": "code",
   "execution_count": 76,
   "metadata": {},
   "outputs": [],
   "source": [
    "game_board, p1_program, p2_program = initiate_board(board_size, player_size)"
   ]
  },
  {
   "cell_type": "code",
   "execution_count": 77,
   "metadata": {},
   "outputs": [
    {
     "name": "stdout",
     "output_type": "stream",
     "text": [
      "#N Random King of Hill\n",
      "#C This experiment allows us to compare how smart an algorithm is compared to brute force\n",
      "#O Emil Wallner Githhub: ewallner\n",
      "x = 64, y= 64\n",
      "bo2bo4bo7bobobo25bo11b2o3b$5bo10bo7b2ob2o13bo3b2o16b$5bo2bo7bo5bo14bo11bo4b2obo5bo$21bo2bo3bo35b$7bo7bo\n",
      "7bobobo2bobo5bo4b2o13bo2b2ob$4bobo3bo11bo5bo4bo14bobo11bob$bo8bo4bo2bo8bo5bo2bobo4bo2bo4bobo3bo6b$4b\n",
      "o20bo8bo2bo7bo6bo10bo$8bo2bobo10bo8bo3bo2bobo7bo5bo4bo2b$o2bo12bobo3bo9bo2bobo7b2o7bo2bo6b$2o22bo8bo7b\n",
      "o9b2o2bo8b$6bo13b2o5bo3bo3b2obo6b2o13b2obo$17bo24bo3bo3bo10bo2b$3bobo7bo9bo2bo6bo4bo2bo3bo11bo2bo3b$8bo6bo\n",
      "13bo3bobo3bo5bo9bo4bo3b$2bo9b2o26bo4bo2b2o4bo6bobo$o5b2o25bo3bo3bo6bo5bo4bo2bob$bo3bo11bo10b2o8b2o19bobo2b\n",
      "$9bo6bobo4bo4bo19bo6bobo6b$8bo5bo7b2obobo12bo7bo2b2obob2o3b2ob$6bo6bo5b2o5bo3bo10b2obo3bo3bo7bo3b$20bo10b\n",
      "2o5bo13bo2b2o3bo3b$5bo4bo6bo3b2obo2bo8b2o14bo4bobo4b$o3bo2bo6bo6bo16bo5bobo14bo2b$9bo4b2o2bo9b2o8bo2bobo14b\n",
      "ob3ob$2b2o5bo21bo3bobo9b2o15b$o24bo10bo7bobo2bo6bo7b$7bo3bo3b2o4bobo2bobo3bo6bobob2o11bo7b$14bo2bo2bo\n",
      "3b2o3bo15bo10bo2bo4b$3bo4bo9bo13bo8bo5bo7b2o7b$3bo2bo3bobo5bo2bobo8bo7bo12bo8bob$7bo2bo3bobo33b2o5b2o5b$7b\n",
      "o3bo8bobo15bo2b2o4bo3bo6bo5b$4bo27bo3bo3bo7bo8bo6b$3bo3bo16bo2bo2bobo5bo25b$2b2o7bobo7bo3bo6bo8bo4bo5bo\n",
      "4bo6b$3bo2bo3bobo10bo7bo2bo4b3o9b2o6bo4b$12bo3bo14bo3bo5bo5b3o9bo4b$obo5bo17bo3bo2bo3bo7bo5bo3bo4b2o2b$4bo\n",
      "4b2o5bo9bo20bo16b$7bo19b2obo8bo14bo9b$2bo8b2o3bobobo5bo3bo29bo3b$3bobo9bobo7bo7bo10bo2bo6b2o3bo4b$4bo3b\n",
      "o10bobobobobobo9bo6bobo15b$bo2bo7bo13b2o2b4o2bo19b2o2bob2o$30bo3bo3bo3bo7bo13b$4b2o12b2obo2bo2bo2bo\n",
      "3bobo5bo6b2o4bo8b$4bobo3bo4b2o5b2o14bo13b2o7bobo$13bo12b2o17bo2b2o14b$o6bo2bo8bo9bo13bo15bo4b$17bo14bo16b\n",
      "4ob2o3bo4b$bo2bobo10bo23bo14bobobo2bo$30bo17bo5bo5bo3b$8bobobo15bo2bo2bo2bobo17bo6b$2bo9bo6bo3bo5b\n",
      "2o12b2o11bo7b$bo11bo2bo3bo31bo2bo8b$3bo4bo11bo5b4ob2obo8b2o7bo9b2o$4bo3bo13bo11bo10b2o5bo3b2o6b$2bo5bo5bo37b\n",
      "obo9b$3bo3bo3bo7bo2bobo2bo10b2o18bo5b$4b2o5bo19bo10bo12bobo6b$bo5bo10bob4o2bo8bo4b2o3bo8bo2bo3b2ob$3bo5b\n",
      "obo9b2o2bo7bo3bo6bo4bo9bo4b$4bo6bo5bo3bo9bo8b2o5bob2o6b2o3bob$!\n"
     ]
    }
   ],
   "source": [
    "turn_program_into_file(p1_program, player_size, experiment_name, author, comments)"
   ]
  },
  {
   "cell_type": "code",
   "execution_count": 42,
   "metadata": {},
   "outputs": [],
   "source": [
    "game = gol.GameOfLife(512, 512)\n",
    "game.set_grid(bytearray(game_board.tobytes()))\n",
    "game.run_steps(100)\n",
    "game_ints = [x for x in game.grid()]"
   ]
  },
  {
   "cell_type": "code",
   "execution_count": 17,
   "metadata": {},
   "outputs": [
    {
     "name": "stdout",
     "output_type": "stream",
     "text": [
      "1\n"
     ]
    }
   ],
   "source": [
    "def decide_winner(game_result):\n",
    "    ones = 0\n",
    "    twos = 0\n",
    "    winner = 1\n",
    "    \n",
    "    for i in game_result:\n",
    "        if i == 1:\n",
    "            ones += 1\n",
    "        elif i == 2:\n",
    "            twos += 1\n",
    "            \n",
    "    if twos > ones:\n",
    "        winner = 2\n",
    "    return winner\n",
    "\n",
    "print(decide_winner(game_ints))"
   ]
  },
  {
   "cell_type": "code",
   "execution_count": null,
   "metadata": {},
   "outputs": [],
   "source": [
    "turn_program_into_file(program, player_size, experiment_name, author, comments):"
   ]
  },
  {
   "cell_type": "code",
   "execution_count": null,
   "metadata": {},
   "outputs": [],
   "source": [
    "   for k in range(player_size):\n",
    "            counter += 1\n",
    "            if program[i][k] == 0:\n",
    "                data = 0\n",
    "            else:\n",
    "                data = 1\n",
    "            \n",
    "            if k > 0 and data != end or k == player_size - 1:\n",
    "                if counter > 1:\n",
    "                    file += str(counter)\n",
    "                    linebreak += len(str(counter)) + 1\n",
    "                else:\n",
    "                    linebreak += 1       \n",
    "                if data == 0:\n",
    "                    file += \"b\"\n",
    "                    end = 1\n",
    "                else:\n",
    "                    file += \"o\"\n",
    "                    end = 0\n",
    "                if linebreak > 69:\n",
    "                    file += \"\\n\"\n",
    "                    linebreak = 0\n",
    "                counter = 0"
   ]
  }
 ],
 "metadata": {
  "kernelspec": {
   "display_name": "Python 3",
   "language": "python",
   "name": "python3"
  },
  "language_info": {
   "codemirror_mode": {
    "name": "ipython",
    "version": 3
   },
   "file_extension": ".py",
   "mimetype": "text/x-python",
   "name": "python",
   "nbconvert_exporter": "python",
   "pygments_lexer": "ipython3",
   "version": "3.6.5"
  }
 },
 "nbformat": 4,
 "nbformat_minor": 2
}
