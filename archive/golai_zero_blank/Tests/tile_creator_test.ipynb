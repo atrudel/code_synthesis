{
 "cells": [
  {
   "cell_type": "code",
   "execution_count": 16,
   "metadata": {},
   "outputs": [
    {
     "data": {
      "text/plain": [
       "0.3648478925439139"
      ]
     },
     "execution_count": 16,
     "metadata": {},
     "output_type": "execute_result"
    }
   ],
   "source": [
    "import random\n",
    "import numpy as np\n",
    "from utils import dotdict\n",
    "random.random()"
   ]
  },
  {
   "cell_type": "code",
   "execution_count": 25,
   "metadata": {},
   "outputs": [],
   "source": [
    "args = dotdict({\n",
    "    \n",
    "    #Program\n",
    "    'numIters': 1000,\n",
    "    'numEps': 100,\n",
    "    'vocabWidth': 2, \n",
    "    'vocabHeight': 2,\n",
    "    'programSize': 6,\n",
    "    'programWidth': 6,\n",
    "    'programHeight': 6,\n",
    "    'predictionLen': 6*6 // 2*2,\n",
    "    'vocabLen': 2**(2*2), \n",
    "    \n",
    "    # Simulations\n",
    "    'tempThreshold': 15,\n",
    "    'updateThreshold': 0.6,\n",
    "    'maxlenOfQueue': 200000,\n",
    "    'numMCTSSims': 25,\n",
    "    'arenaCompare': 40,\n",
    "    'cpuct': 1,\n",
    "    \n",
    "    # Game \n",
    "    'gameSteps': 100,\n",
    "    \n",
    "    # Model\n",
    "    'resnetBlocks': 10,\n",
    "    'resnetInputDepth': 1,\n",
    "    'resnetChannelDepth': 64,\n",
    "    'checkpoint': './temp/',\n",
    "    'load_model': False,\n",
    "    'load_folder_file': ('/dev/models/8x100x50', 'best.pth.tar'),\n",
    "    'numItersForTrainExamplesHistory': 20,\n",
    "})"
   ]
  },
  {
   "cell_type": "code",
   "execution_count": 26,
   "metadata": {},
   "outputs": [],
   "source": [
    "import random\n",
    "from torch import Tensor\n",
    "\n",
    "class Game():\n",
    "    \n",
    "    def __init__(self, args):\n",
    "        self.args = args\n",
    "        \n",
    "    def getNextState(self, program, action):\n",
    "        \n",
    "        \"\"\"\n",
    "        \n",
    "        Turns the action/vocab into a board piece.\n",
    "        Adds it to the board.\n",
    "        Creates -1 for next action square.\n",
    "        \n",
    "        \"\"\"\n",
    "        \n",
    "        for i in program:\n",
    "            if i == -1:\n",
    "                program[i] = action\n",
    "                return program\n",
    "        print(\"getNextState was called with a full board\")\n",
    "        return program\n",
    "        \n",
    "    def integerImageRepresentation(self, sequence):\n",
    "\n",
    "        \"\"\" Creates the input for the neural network: \"\"\"\n",
    "        \n",
    "        self.start = True\n",
    "        self.x = (self.args.programWidth // 2) - (self.args.vocabWidth // 2) \n",
    "        self.y = (self.args.programHeight // 2) - (self.args.vocabHeight // 2) \n",
    "        self.program = np.full((self.args.programWidth, self.args.programHeight), -1, dtype=np.int8)\n",
    "        self.create_player_from_sequence(sequence)\n",
    "        return self.program\n",
    "    \n",
    "    def create_player_from_sequence(self, sequence):  \n",
    "        for digit in sequence:\n",
    "            print(digit)\n",
    "            if digit == -1:\n",
    "                break\n",
    "            grid = self.digit_to_grid(digit)\n",
    "            self.add_grid_to_program(grid)\n",
    "            self.next_cord()\n",
    "                \n",
    "    def digit_to_grid(self, digit):\n",
    "        # Turn digit into binary representation to create a word\n",
    "        binary = \"{0:b}\".format(digit)\n",
    "        binary = binary.zfill(4)\n",
    "        binary = list(str(binary))\n",
    "        return np.array(binary).reshape((self.args.vocabWidth, self.args.vocabHeight))\n",
    "    \n",
    "    def add_grid_to_program(self, grid):\n",
    "        for x in range(self.args.vocabWidth):\n",
    "            for y in range(self.args.vocabHeight):\n",
    "                print(self.x + x, self.y + y, x, y)\n",
    "                self.program[self.x + x][self.y + y] = grid[x][y]\n",
    "    \n",
    "    def next_cord(self):\n",
    "        \n",
    "         #The program is initialized with -1, if it's something else we know its been filled already.\\\n",
    "         #The program is added in a spiral shape starting by moving to the right. Move down if left block \\\n",
    "         #is filled and bottom is emtpy, or move left if top is filled, or move up if right is filled, else \\\n",
    "         #move right.\n",
    "        \n",
    "        if self.start:\n",
    "            self.x += self.args.vocabWidth\n",
    "            print(self.x)\n",
    "            self.start = False\n",
    "        elif self.x != 0 and self.program[self.x - 1, self.y] != -1 \\\n",
    "        and self.program[self.x, self.y + self.args.vocabHeight] == -1:\n",
    "            self.y += self.args.vocabHeight\n",
    "        elif self.y != 0 and self.program[self.x, self.y - 1] != -1:\n",
    "            self.x -= self.args.vocabWidth\n",
    "        elif self.x + self.args.vocabWidth != self.args.programWidth and self.program[self.x + self.args.vocabWidth, self.y] != -1:\n",
    "            self.y -= self.args.vocabHeight\n",
    "        else:\n",
    "            self.x += self.args.vocabWidth\n",
    "    \n",
    "    def getInitProgram(self):\n",
    "        \n",
    "        return np.full((self.args.predictionLen), -1, dtype=np.int8)\n",
    "    \n",
    "    def getBoardSize(self):\n",
    "        return arena.size()\n",
    "    \n",
    "    def getActionSize(self):\n",
    "        return(self.args.vocabLen)\n",
    "    \n",
    "    def getGameEnded(self, playerOne, playerTwo):\n",
    "        player1, player2 = convertToArenaPlayers(playerOne, playerTwo)\n",
    "        arena.add_players(playerOne, playerTwo)\n",
    "        arena.run_steps(self.args.gameSteps)\n",
    "        return selectWinner(arena.grid())\n",
    "    \n",
    "    def selectWinner(self, board):\n",
    "        ones = 0\n",
    "        twos = 0\n",
    "\n",
    "        for i in game_result:\n",
    "            if i == 1:\n",
    "                ones += 1\n",
    "            elif i == 2:\n",
    "                twos += 1\n",
    "\n",
    "        if ones > twos:\n",
    "            winner = Tensor(1.0)\n",
    "        elif ones > twos:\n",
    "            winner = Tensor(-1.0)\n",
    "        else:\n",
    "            winner = Tensor(random.uniform(0.000001, 0.000000001))\n",
    "            \n",
    "        return winner\n",
    "        \n",
    "    def convertToArenaPlayers(player1, player2):\n",
    "        \n",
    "        \"\"\"\n",
    "        \n",
    "        Turns the working format into a 2D numpy array int8\n",
    "        \n",
    "        \"\"\"\n",
    "        \n",
    "        return player1, player2\n",
    "    \n",
    "    def stringRepresentation(self, program):\n",
    "        \n",
    "        \"\"\"\n",
    "        \n",
    "        Turn board into a string used for the MCST hashing.\n",
    "        \n",
    "        \"\"\"\n",
    "        \n",
    "        program_string = \"\"\n",
    "        for integer in board:\n",
    "            program_string += str(integer)\n",
    "            \n",
    "        return program_string\n",
    "    \n",
    "  \n",
    "\n",
    "# Structure from: https://github.com/suragnair/alpha-zero-general/blob/master/Game.py"
   ]
  },
  {
   "cell_type": "code",
   "execution_count": 27,
   "metadata": {},
   "outputs": [],
   "source": [
    "game = Game(args)"
   ]
  },
  {
   "cell_type": "code",
   "execution_count": 28,
   "metadata": {},
   "outputs": [],
   "source": [
    "value = [0, 1, 2, 3, 4, 5, 6, 7, 8,9, 10, 11, 12, 13, 14, 15]  "
   ]
  },
  {
   "cell_type": "code",
   "execution_count": 29,
   "metadata": {},
   "outputs": [],
   "source": [
    "value = np.full(9, 15)\n",
    "test = np.random.choice(value, (25))"
   ]
  },
  {
   "cell_type": "code",
   "execution_count": 30,
   "metadata": {},
   "outputs": [],
   "source": [
    "value[17] = 15"
   ]
  },
  {
   "cell_type": "code",
   "execution_count": 32,
   "metadata": {},
   "outputs": [],
   "source": [
    "value = np.full(9, 15)"
   ]
  },
  {
   "cell_type": "code",
   "execution_count": 33,
   "metadata": {},
   "outputs": [
    {
     "name": "stdout",
     "output_type": "stream",
     "text": [
      "15\n",
      "2 2 0 0\n",
      "2 3 0 1\n",
      "3 2 1 0\n",
      "3 3 1 1\n",
      "4\n",
      "15\n",
      "4 2 0 0\n",
      "4 3 0 1\n",
      "5 2 1 0\n",
      "5 3 1 1\n",
      "15\n",
      "4 4 0 0\n",
      "4 5 0 1\n",
      "5 4 1 0\n",
      "5 5 1 1\n",
      "15\n",
      "2 4 0 0\n",
      "2 5 0 1\n",
      "3 4 1 0\n",
      "3 5 1 1\n",
      "15\n",
      "0 4 0 0\n",
      "0 5 0 1\n",
      "1 4 1 0\n",
      "1 5 1 1\n",
      "15\n",
      "0 2 0 0\n",
      "0 3 0 1\n",
      "1 2 1 0\n",
      "1 3 1 1\n",
      "15\n",
      "0 0 0 0\n",
      "0 1 0 1\n",
      "1 0 1 0\n",
      "1 1 1 1\n",
      "15\n",
      "2 0 0 0\n",
      "2 1 0 1\n",
      "3 0 1 0\n",
      "3 1 1 1\n",
      "15\n",
      "4 0 0 0\n",
      "4 1 0 1\n",
      "5 0 1 0\n",
      "5 1 1 1\n"
     ]
    }
   ],
   "source": [
    "test = game.integerImageRepresentation(value)"
   ]
  },
  {
   "cell_type": "code",
   "execution_count": 34,
   "metadata": {},
   "outputs": [
    {
     "name": "stdout",
     "output_type": "stream",
     "text": [
      "[1 1 1 1 1 1]\n",
      "[1 1 1 1 1 1]\n",
      "[1 1 1 1 1 1]\n",
      "[1 1 1 1 1 1]\n",
      "[1 1 1 1 1 1]\n",
      "[1 1 1 1 1 1]\n"
     ]
    }
   ],
   "source": [
    "for i in range(len(test)):\n",
    "    print(test[i])"
   ]
  },
  {
   "cell_type": "code",
   "execution_count": null,
   "metadata": {},
   "outputs": [],
   "source": [
    "for i in test:\n",
    "    print(i)"
   ]
  },
  {
   "cell_type": "code",
   "execution_count": 46,
   "metadata": {},
   "outputs": [],
   "source": [
    "\n",
    "if cat:\n",
    "    print('risten')"
   ]
  },
  {
   "cell_type": "code",
   "execution_count": 45,
   "metadata": {},
   "outputs": [],
   "source": [
    "cat = False"
   ]
  },
  {
   "cell_type": "code",
   "execution_count": 80,
   "metadata": {},
   "outputs": [
    {
     "data": {
      "text/plain": [
       "2500.0"
      ]
     },
     "execution_count": 80,
     "metadata": {},
     "output_type": "execute_result"
    }
   ],
   "source": [
    "100*100/(2*2)"
   ]
  },
  {
   "cell_type": "code",
   "execution_count": null,
   "metadata": {},
   "outputs": [],
   "source": [
    "args = dotdict({\n",
    "    'numIters': 1000,\n",
    "    'numEps': 100,\n",
    "    'vocabWidth': 2, \n",
    "    'vocabHeight': 2,\n",
    "    'programSize': 6,\n",
    "    'programWidth': 6,\n",
    "    'programHeight': 6,\n",
    "    'predictionLen': (args.programWidth*args.programHeight // args.vocabHeight*args.vocabWidth),\n",
    "    'vocabLen': 2**args.programWidth*args.programHeight, \n",
    "    \n",
    "    # Simulations\n",
    "    'tempThreshold': 15,\n",
    "    'updateThreshold': 0.6,\n",
    "    'maxlenOfQueue': 200000,\n",
    "    'numMCTSSims': 25,\n",
    "    'arenaCompare': 40,\n",
    "    'cpuct': 1,\n",
    "    \n",
    "    # Game \n",
    "    'gameSteps': 100,\n",
    "    \n",
    "    # Model\n",
    "    'resnetBlocks': 10,\n",
    "    'resnetInputDepth': 1,\n",
    "    'resnetChannelDepth': 64,\n",
    "    'checkpoint': './temp/',\n",
    "    'load_model': False,\n",
    "    'load_folder_file': ('/dev/models/8x100x50', 'best.pth.tar'),\n",
    "    'numItersForTrainExamplesHistory': 20,\n",
    "})"
   ]
  }
 ],
 "metadata": {
  "kernelspec": {
   "display_name": "Python 3",
   "language": "python",
   "name": "python3"
  },
  "language_info": {
   "codemirror_mode": {
    "name": "ipython",
    "version": 3
   },
   "file_extension": ".py",
   "mimetype": "text/x-python",
   "name": "python",
   "nbconvert_exporter": "python",
   "pygments_lexer": "ipython3",
   "version": "3.6.5"
  }
 },
 "nbformat": 4,
 "nbformat_minor": 2
}
