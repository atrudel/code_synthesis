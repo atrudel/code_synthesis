{
 "cells": [
  {
   "cell_type": "code",
   "execution_count": null,
   "metadata": {},
   "outputs": [
    {
     "name": "stdout",
     "output_type": "stream",
     "text": [
      "cat\n",
      "cat\n"
     ]
    }
   ],
   "source": [
    "import sys, os\n",
    "sys.path.insert(0, os.path.abspath(os.path.join(os.getcwd(), '../../game')))\n",
    "from coach import Coach\n",
    "from NeuralNetworkWrapper import NNetWrapper\n",
    "from train import Train\n",
    "from multiprocessing import Pool\n",
    "from tensorboardX import SummaryWriter\n",
    "from GOLAI.arena import Arena\n",
    "import multiprocessing\n",
    "from game import Game\n",
    "import numpy as np\n",
    "import random\n",
    "import torch\n",
    "import time\n",
    "from utils import *\n",
    "\n",
    "def createRandomOpp():\n",
    "    \n",
    "    opponents = []\n",
    "    value = list(range(0, args.vocabLen))\n",
    "    for i in range(args.numEps):\n",
    "        opponents.append(np.random.choice(value, args.predictionLen).tolist())\n",
    "    \n",
    "    return opponents\n",
    "\n",
    "        \n",
    "def createCoachData(nnet, opponents, iteration):\n",
    "    random.shuffle(opponents)\n",
    "    opponents = np.array(opponents)\n",
    "    opponents = np.split(opponents, args.cpus)\n",
    "    gpuId = np.arange(args.gpus)\n",
    "    file_path = os.path.join(args.output_dir, args.time + \"/\" + str(iteration))\n",
    "    if iteration % args.saveProgramsInterval == 0:\n",
    "        os.makedirs(file_path)\n",
    "    coachData = []\n",
    "    for i in range(args.cpus):\n",
    "        coachData.append([nnet, gpuId[0], iteration, opponents[i], file_path])\n",
    "        gpuId = np.roll(gpuId, 1)\n",
    "    \n",
    "    return coachData\n",
    "    \n",
    "    \n",
    "def generateData(nnet, gpuId, iteration, trainingData, file_path):    \n",
    "    g = Game(Arena(args.gameWidth, args.gameHeight))\n",
    "    c = Coach(g, nnet, iteration, trainingData, file_path)\n",
    "    \n",
    "    return c.learn()\n",
    "\n",
    "\n",
    "\n",
    "if __name__==\"__main__\":\n",
    "    multiprocessing.set_start_method('spawn')\n",
    "    nnet = NNetWrapper()\n",
    "    t = Train(nnet)\n",
    "    writer = SummaryWriter()\n",
    "    opponents = createRandomOpp()\n",
    "    \n",
    "    if args.load_model:\n",
    "        nnet.load_checkpoint(args.load_folder_file[0], args.load_folder_file[1])\n",
    "    \n",
    "    if args.load_model:\n",
    "        print(\"Load trainExamples from file\")\n",
    "        t.loadTrainExamples()\n",
    "        \n",
    "    for i in range(args.numIters):\n",
    "        coachData = createCoachData(nnet, opponents, i)\n",
    "        p = Pool(processes = args.cpus)\n",
    "        data = p.starmap(generateData, coachData)\n",
    "        p.close()\n",
    "        \n",
    "        data = np.array(data)\n",
    "        nn_input = np.concatenate(data[:, 0])\n",
    "        opponents = np.concatenate(data[:, 1])\n",
    "        \n",
    "        wins = sum(data[:, 2].tolist())\n",
    "        print(wins)\n",
    "        writer.add_scalars('zero_10/winning', {'winning': wins}, i)\n",
    "        nnet = t.run(nn_input.tolist(), i)\n",
    "        opponents = opponents.tolist()"
   ]
  },
  {
   "cell_type": "code",
   "execution_count": null,
   "metadata": {},
   "outputs": [],
   "source": []
  }
 ],
 "metadata": {
  "kernelspec": {
   "display_name": "Python 3",
   "language": "python",
   "name": "python3"
  },
  "language_info": {
   "codemirror_mode": {
    "name": "ipython",
    "version": 3
   },
   "file_extension": ".py",
   "mimetype": "text/x-python",
   "name": "python",
   "nbconvert_exporter": "python",
   "pygments_lexer": "ipython3",
   "version": "3.5.2"
  }
 },
 "nbformat": 4,
 "nbformat_minor": 2
}
