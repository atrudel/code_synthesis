{
 "cells": [
  {
   "cell_type": "code",
   "execution_count": 1,
   "metadata": {},
   "outputs": [],
   "source": [
    "import numpy as np\n",
    "import random\n",
    "import pickle\n",
    "from numba import jit\n",
    "from multiprocessing import Pool\n",
    "import os\n",
    "import time"
   ]
  },
  {
   "cell_type": "code",
   "execution_count": 2,
   "metadata": {},
   "outputs": [],
   "source": [
    "from lib.turn_program_into_file import turn_program_into_file\n",
    "from game.wrappers.game_container import GameContainer"
   ]
  },
  {
   "cell_type": "code",
   "execution_count": 3,
   "metadata": {},
   "outputs": [],
   "source": [
    "cpus = 4\n",
    "player_size = 64\n",
    "game = GameContainer(512, 512)\n",
    "# Each run taks 2.6 sec per cpu, 38089 = a 24h run.\n",
    "run_limit = 10\n",
    "save_cycle = 2\n",
    "output_dir = \"./output/KOH/\"\n",
    "run = int(time.time())\n",
    "save_dir = output_dir + str(run) + '/'"
   ]
  },
  {
   "cell_type": "code",
   "execution_count": 4,
   "metadata": {},
   "outputs": [],
   "source": [
    "king_hill_ids = list(range(0, cpus))\n",
    "os.makedirs(os.path.join(output_dir, str(run)))"
   ]
  },
  {
   "cell_type": "code",
   "execution_count": 5,
   "metadata": {},
   "outputs": [],
   "source": [
    "def get_players(player_size):\n",
    "    \n",
    "    value = [1, 0]  \n",
    "    dist = random.random()\n",
    "    p = np.random.choice(value, (player_size, player_size), p=[dist, (1.0 - dist)])\n",
    "    \n",
    "    return np.array(p, dtype=np.int8)"
   ]
  },
  {
   "cell_type": "code",
   "execution_count": 6,
   "metadata": {},
   "outputs": [],
   "source": [
    "def decide_winner(game_result):\n",
    "    ones = 0\n",
    "    twos = 0\n",
    "    winner = 1\n",
    "    \n",
    "    for i in game_result:\n",
    "        if i == 1:\n",
    "            ones += 1\n",
    "        elif i == 2:\n",
    "            twos += 1\n",
    "            \n",
    "    if twos > ones:\n",
    "        winner = 2\n",
    "    return winner"
   ]
  },
  {
   "cell_type": "code",
   "execution_count": 7,
   "metadata": {},
   "outputs": [],
   "source": [
    "def run_king_of_hill(list_id):\n",
    "    \n",
    "    p1 = get_players(player_size)\n",
    "    p2 = get_players(player_size)\n",
    "\n",
    "    for i in range(run_limit):\n",
    "        # Start: Test speed\n",
    "        # start_time = time.time()\n",
    "        game.add_players(p1, p2)\n",
    "        game.launch(1000)\n",
    "        game_ints = [x for x in game.gol.grid()]\n",
    "        game_ints = np.array(game_ints).flatten()\n",
    "        winner = decide_winner(game_ints)\n",
    "        \n",
    "        if winner == 1:\n",
    "            p2 = get_players(player_size)\n",
    "        else:\n",
    "            p1 = get_players(player_size)\n",
    "        \n",
    "        if i % save_cycle == 0:\n",
    "            if winner == 1:\n",
    "                program = p1\n",
    "            else:\n",
    "                program = p2\n",
    "\n",
    "            turn_program_into_file(program, save_dir + \"player-\" + str(list_id) + \"-cycle-\" + str(i) + \".rle\", \"RKH\", \"EW\", \"\")\n",
    "        \n",
    "        # End: Test speed\n",
    "        # print(\"--- %s seconds ---\" % (time.time() - start_time))"
   ]
  },
  {
   "cell_type": "code",
   "execution_count": 8,
   "metadata": {},
   "outputs": [
    {
     "name": "stdout",
     "output_type": "stream",
     "text": [
      "Done!\n"
     ]
    }
   ],
   "source": [
    "if __name__ == \"__main__\":\n",
    "\n",
    "    pool = Pool(processes=cpus) \n",
    "    data_all = pool.map(run_king_of_hill, king_hill_ids)\n",
    "    print(\"Done!\") "
   ]
  }
 ],
 "metadata": {
  "kernelspec": {
   "display_name": "Python 3",
   "language": "python",
   "name": "python3"
  },
  "language_info": {
   "codemirror_mode": {
    "name": "ipython",
    "version": 3
   },
   "file_extension": ".py",
   "mimetype": "text/x-python",
   "name": "python",
   "nbconvert_exporter": "python",
   "pygments_lexer": "ipython3",
   "version": "3.6.5"
  }
 },
 "nbformat": 4,
 "nbformat_minor": 2
}
