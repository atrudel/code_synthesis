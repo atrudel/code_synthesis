{
 "cells": [
  {
   "cell_type": "code",
   "execution_count": 1,
   "metadata": {},
   "outputs": [],
   "source": [
    "import numpy as np\n",
    "import random\n",
    "import pickle\n",
    "from numba import jit\n",
    "from multiprocessing import Pool\n",
    "import os\n",
    "import time"
   ]
  },
  {
   "cell_type": "code",
   "execution_count": 2,
   "metadata": {},
   "outputs": [],
   "source": [
    "from lib.turn_program_into_file import turn_program_into_file\n",
    "from game.wrappers.game_container import GameContainer"
   ]
  },
  {
   "cell_type": "code",
   "execution_count": 3,
   "metadata": {},
   "outputs": [],
   "source": [
    "cpus = 60\n",
    "player_size = 64\n",
    "game = GameContainer(512, 512)\n",
    "# Each run taks 2.6 sec per cpu, 38089 = a 24h run.\n",
    "run_limit = 10\n",
    "save_cycle = 200\n",
    "output_dir = \"./output/KOH/\"\n",
    "run = int(time.time())\n",
    "save_dir = output_dir + str(run) + '/'"
   ]
  },
  {
   "cell_type": "code",
   "execution_count": 4,
   "metadata": {},
   "outputs": [],
   "source": [
    "king_hill_ids = list(range(0, cpus))\n",
    "os.makedirs(os.path.join(output_dir, str(run)))"
   ]
  },
  {
   "cell_type": "code",
   "execution_count": 5,
   "metadata": {},
   "outputs": [],
   "source": [
    "def get_players(player_size):\n",
    "    \n",
    "    value = [1, 0]  \n",
    "    dist = random.random()\n",
    "    p = np.random.choice(value, (player_size, player_size), p=[dist, (1.0 - dist)])\n",
    "    \n",
    "    return np.array(p, dtype=np.int8)"
   ]
  },
  {
   "cell_type": "code",
   "execution_count": 6,
   "metadata": {},
   "outputs": [],
   "source": [
    "def decide_winner(game_result):\n",
    "    ones = 0\n",
    "    twos = 0\n",
    "    winner = 1\n",
    "    \n",
    "    for i in game_result:\n",
    "        if i == 1:\n",
    "            ones += 1\n",
    "        elif i == 2:\n",
    "            twos += 1\n",
    "            \n",
    "    if twos > ones:\n",
    "        winner = 2\n",
    "    return winner"
   ]
  },
  {
   "cell_type": "code",
   "execution_count": 7,
   "metadata": {},
   "outputs": [],
   "source": [
    "def run_king_of_hill(list_id):\n",
    "    \n",
    "    p1 = get_players(player_size)\n",
    "    p2 = get_players(player_size)\n",
    "\n",
    "    for i in range(run_limit):\n",
    "        # Start: Test speed\n",
    "        # start_time = time.time()\n",
    "        \n",
    "        if i < 70000:\n",
    "            rounds = int(2 + (1.0001**i))\n",
    "        else:\n",
    "            rounds = 1000\n",
    "        \n",
    "        \n",
    "        game.add_players(p1, p2)\n",
    "        game.launch(rounds)\n",
    "        game_ints = [x for x in game.gol.grid()]\n",
    "        game_ints = np.array(game_ints).flatten()\n",
    "        winner = decide_winner(game_ints)\n",
    "        \n",
    "        if winner == 1:\n",
    "            p2 = get_players(player_size)\n",
    "        else:\n",
    "            p1 = get_players(player_size)\n",
    "        \n",
    "        if i % save_cycle == 0:\n",
    "            if winner == 1:\n",
    "                program = p1\n",
    "            else:\n",
    "                program = p2\n",
    "\n",
    "            turn_program_into_file(program, save_dir + \"player-\" + str(list_id) + \"-cycle-\" + str(i) + \".rle\", \"RKH\", \"EW\", \"\")\n",
    "        \n",
    "        # End: Test speed\n",
    "        # print(\"--- %s seconds ---\" % (time.time() - start_time))"
   ]
  },
  {
   "cell_type": "code",
   "execution_count": 8,
   "metadata": {},
   "outputs": [
    {
     "name": "stdout",
     "output_type": "stream",
     "text": [
      "0\n",
      "0\n",
      "0\n",
      "0\n",
      "--- 1.244999885559082 seconds ---\n",
      "1\n",
      "--- 1.2537016868591309 seconds ---\n",
      "1\n",
      "--- 1.2616629600524902 seconds ---\n",
      "--- 1.265434980392456 seconds ---\n",
      "1\n",
      "1\n",
      "--- 0.9207420349121094 seconds ---\n",
      "2\n",
      "--- 0.902097225189209 seconds ---\n",
      "2\n",
      "--- 0.9143791198730469 seconds ---\n",
      "2\n",
      "--- 0.9561300277709961 seconds ---\n",
      "2\n",
      "--- 0.9012260437011719 seconds ---\n",
      "--- 0.8816730976104736 seconds ---\n",
      "3\n",
      "--- 0.8828799724578857 seconds ---\n",
      "--- 0.904961109161377 seconds ---\n",
      "3\n",
      "3\n",
      "3\n",
      "--- 0.8993382453918457 seconds ---\n",
      "--- 0.8940989971160889 seconds ---\n",
      "4\n",
      "--- 0.8981730937957764 seconds ---\n",
      "--- 0.9035260677337646 seconds ---\n",
      "4\n",
      "4\n",
      "4\n",
      "--- 0.8809292316436768 seconds ---\n",
      "--- 0.8663899898529053 seconds ---\n",
      "--- 0.8825101852416992 seconds ---\n",
      "5\n",
      "5\n",
      "5\n",
      "--- 0.9126830101013184 seconds ---\n",
      "5\n",
      "--- 0.9003090858459473 seconds ---\n",
      "--- 0.9010660648345947 seconds ---\n",
      "--- 0.9121909141540527 seconds ---\n",
      "6\n",
      "--- 0.8703351020812988 seconds ---\n",
      "6\n",
      "6\n",
      "6\n",
      "--- 0.9786880016326904 seconds ---\n",
      "7\n",
      "--- 0.9770331382751465 seconds ---\n",
      "7\n",
      "--- 0.980769157409668 seconds ---\n",
      "7\n",
      "--- 1.0421969890594482 seconds ---\n",
      "7\n",
      "--- 0.9591648578643799 seconds ---\n",
      "8\n",
      "--- 0.9192378520965576 seconds ---\n",
      "8\n",
      "--- 0.943821907043457 seconds ---\n",
      "8\n",
      "--- 0.8995339870452881 seconds ---\n",
      "8\n",
      "--- 0.9585371017456055 seconds ---\n",
      "--- 0.9730360507965088 seconds ---\n",
      "9\n",
      "9\n",
      "--- 0.9772720336914062 seconds ---\n",
      "9\n",
      "--- 1.0092191696166992 seconds ---\n",
      "9\n",
      "--- 1.027951717376709 seconds ---\n",
      "--- 1.0361268520355225 seconds ---\n",
      "--- 0.991689920425415 seconds ---\n",
      "--- 0.9558877944946289 seconds ---\n",
      "Done!\n"
     ]
    }
   ],
   "source": [
    "if __name__ == \"__main__\":\n",
    "\n",
    "    pool = Pool(processes=cpus) \n",
    "    data_all = pool.map(run_king_of_hill, king_hill_ids)\n",
    "    print(\"Done!\") "
   ]
  }
 ],
 "metadata": {
  "kernelspec": {
   "display_name": "Python 3",
   "language": "python",
   "name": "python3"
  },
  "language_info": {
   "codemirror_mode": {
    "name": "ipython",
    "version": 3
   },
   "file_extension": ".py",
   "mimetype": "text/x-python",
   "name": "python",
   "nbconvert_exporter": "python",
   "pygments_lexer": "ipython3",
   "version": "3.6.5"
  }
 },
 "nbformat": 4,
 "nbformat_minor": 2
}
