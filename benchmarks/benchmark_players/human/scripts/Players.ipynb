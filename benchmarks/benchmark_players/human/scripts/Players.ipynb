{
 "cells": [
  {
   "cell_type": "code",
   "execution_count": null,
   "metadata": {},
   "outputs": [],
   "source": [
    "import sys\n",
    "sys.path.insert(0, '/Users/ademenet/Github/GOLAI/game/game_of_life')\n",
    "import os\n",
    "import numpy as np\n",
    "import rle"
   ]
  },
  {
   "cell_type": "code",
   "execution_count": null,
   "metadata": {},
   "outputs": [],
   "source": [
    "PATTERNS = '/Users/ademenet/Downloads/Golly-3.1-Mac/Patterns'"
   ]
  },
  {
   "cell_type": "markdown",
   "metadata": {},
   "source": [
    "We can do some stats on patterns such as:\n",
    "\n",
    "- size\n",
    "- density, which can be calculate by $d = \\frac{c_{1}}{c_{1}+c_{2}}$ where, $c_{n}$ is the number of cells (or population) for player $n$\n",
    "- k-mean for unsupervised learning classifier"
   ]
  },
  {
   "cell_type": "code",
   "execution_count": null,
   "metadata": {},
   "outputs": [],
   "source": [
    "def iterate_over_rle(directory):\n",
    "    \"\"\"Iterate recursively over `.rle` files in a directory and return an list of every path and filenames.\"\"\"\n",
    "    list_files = list()\n",
    "    for root, dirs, files in os.walk(directory):\n",
    "        for file in files:\n",
    "            if file.endswith(\".rle\"):\n",
    "                 list_files.append(os.path.join(root, file))\n",
    "    return list_files"
   ]
  },
  {
   "cell_type": "code",
   "execution_count": null,
   "metadata": {},
   "outputs": [],
   "source": [
    "def listofrle_to_numpy(listofrle):\n",
    "    \"\"\"Open a list of `.rle` files and return a numpy array.\"\"\"\n",
    "    for file in listofrle:\n",
    "        print(\"file: \", file)\n",
    "        pattern = rle.Pattern(file)\n",
    "        print(pattern.data.shape)"
   ]
  },
  {
   "cell_type": "code",
   "execution_count": null,
   "metadata": {},
   "outputs": [],
   "source": [
    "def select_pattern(listofrle, maxsize=(64,64)):\n",
    "    \"\"\"\"\"\"\n",
    "    result = list()\n",
    "    for file in listofrle:\n",
    "        pattern = rle.Pattern(file)\n",
    "        if 0 < pattern.data.shape[0] <= 64 and 0 < pattern.data.shape[0] <= 64:\n",
    "            result.append(file)\n",
    "    return result"
   ]
  },
  {
   "cell_type": "code",
   "execution_count": null,
   "metadata": {},
   "outputs": [],
   "source": [
    "list_f  = iterate_over_rle(PATTERNS)"
   ]
  },
  {
   "cell_type": "code",
   "execution_count": null,
   "metadata": {},
   "outputs": [],
   "source": [
    "# Because I met some file errors I decided to skip them.\n",
    "# Bugs due to:\n",
    "# - can't handle file with truncated line at the end\n",
    "# - another bug, I didn't identified yet\n",
    "to_del = ['/Users/ademenet/Downloads/Golly-3.1-Mac/Patterns/Life/Signal-Circuitry/Unit-Life-Cell-512x512.rle', \n",
    "          '/Users/ademenet/Downloads/Golly-3.1-Mac/Patterns/Self-Rep/JvN/Boustrophedon-replicator.rle',\n",
    "          '/Users/ademenet/Downloads/Golly-3.1-Mac/Patterns/Self-Rep/JvN/cell-coders-demo.rle',\n",
    "          '/Users/ademenet/Downloads/Golly-3.1-Mac/Patterns/Self-Rep/JvN/codon4-auto-retract.rle',\n",
    "          '/Users/ademenet/Downloads/Golly-3.1-Mac/Patterns/Self-Rep/JvN/codon5-auto-retract.rle',\n",
    "          '/Users/ademenet/Downloads/Golly-3.1-Mac/Patterns/Self-Rep/JvN/construction-arm-demo.rle',\n",
    "          '/Users/ademenet/Downloads/Golly-3.1-Mac/Patterns/Self-Rep/JvN/counter-demo.rle',\n",
    "          '/Users/ademenet/Downloads/Golly-3.1-Mac/Patterns/Self-Rep/JvN/Hutton-replicator.rle',\n",
    "          '/Users/ademenet/Downloads/Golly-3.1-Mac/Patterns/Self-Rep/JvN/read-arm-demo.rle']\n",
    "list_f = [x for x in list_f if x not in to_del]"
   ]
  },
  {
   "cell_type": "code",
   "execution_count": null,
   "metadata": {},
   "outputs": [],
   "source": [
    "pattern_less64 = select_pattern(list_f)\n",
    "np.savetxt(\"pattern_less64.csv\", pattern_less64, fmt='%s')"
   ]
  }
 ],
 "metadata": {
  "kernelspec": {
   "display_name": "Python 3",
   "language": "python",
   "name": "python3"
  },
  "language_info": {
   "codemirror_mode": {
    "name": "ipython",
    "version": 3
   },
   "file_extension": ".py",
   "mimetype": "text/x-python",
   "name": "python",
   "nbconvert_exporter": "python",
   "pygments_lexer": "ipython3",
   "version": "3.6.5"
  }
 },
 "nbformat": 4,
 "nbformat_minor": 2
}
